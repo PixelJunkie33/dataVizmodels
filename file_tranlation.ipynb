{
 "cells": [
  {
   "attachments": {},
   "cell_type": "markdown",
   "metadata": {},
   "source": [
    "### GoogleTranslator on Goolge Doc\n",
    "\n",
    "##### the objective of the notebook is to convert a text doc form 'en' to 'he' while maintaining the input file structure"
   ]
  },
  {
   "cell_type": "code",
   "execution_count": 41,
   "metadata": {},
   "outputs": [],
   "source": [
    "#pip install docx2txt"
   ]
  },
  {
   "cell_type": "code",
   "execution_count": 39,
   "metadata": {},
   "outputs": [
    {
     "ename": "SyntaxError",
     "evalue": "invalid syntax (155633317.py, line 1)",
     "output_type": "error",
     "traceback": [
      "\u001b[1;36m  Cell \u001b[1;32mIn[39], line 1\u001b[1;36m\u001b[0m\n\u001b[1;33m    pip install docx2txt\u001b[0m\n\u001b[1;37m        ^\u001b[0m\n\u001b[1;31mSyntaxError\u001b[0m\u001b[1;31m:\u001b[0m invalid syntax\n"
     ]
    }
   ],
   "source": [
    "#pip install googletrans==4.0.0-rc1"
   ]
  },
  {
   "cell_type": "code",
   "execution_count": 99,
   "metadata": {},
   "outputs": [],
   "source": [
    "#covert the document to text \n",
    "import docx2txt\n",
    "\n",
    "# Convert .docx to string\n",
    "text = docx2txt.process('./Session_1_New_Jews_and_Old_ Jews.docx')\n",
    "\n",
    "# Write string to .txt file\n",
    "with open('NJOJ.txt', 'w') as f:\n",
    "    f.write(text)\n",
    "\n"
   ]
  },
  {
   "attachments": {},
   "cell_type": "markdown",
   "metadata": {},
   "source": [
    "Remove non str char from the file"
   ]
  },
  {
   "cell_type": "code",
   "execution_count": 111,
   "metadata": {},
   "outputs": [],
   "source": [
    "#remove non-string characters from the file and resave it\n",
    "import re\n",
    "with open('hillel.txt', 'r') as f:\n",
    "    text = f.read()\n",
    "    text = re.sub(r'[^a-zA-Z0-9\\s]', '', text)\n",
    "    text = re.sub(r'\\s+', ' ', text)\n",
    "    text = text.lower()\n",
    "\n",
    "\n",
    "    #remove trailing whitespaces\n",
    "    text = text.strip()\n",
    "with open('hillel_clean.txt', 'w') as f:\n",
    "    f.write(text)    \n"
   ]
  },
  {
   "cell_type": "code",
   "execution_count": 3,
   "metadata": {},
   "outputs": [],
   "source": [
    "class FileReader:\n",
    "    def __init__(self, file_name):\n",
    "        self.file_name = file_name\n",
    "\n",
    "    def read(self):\n",
    "        try:\n",
    "            with open(self.file_name, 'r') as f:\n",
    "                return f.read()\n",
    "        except FileNotFoundError:\n",
    "            return 'File Does Not Exist'\n",
    "        "
   ]
  },
  {
   "cell_type": "code",
   "execution_count": 6,
   "metadata": {},
   "outputs": [
    {
     "name": "stdout",
     "output_type": "stream",
     "text": [
      "output_file_path\n"
     ]
    }
   ],
   "source": [
    "translated_test = FileReader('translated_text.txt')\n",
    "print(translated_test.read())"
   ]
  },
  {
   "cell_type": "code",
   "execution_count": 60,
   "metadata": {},
   "outputs": [],
   "source": [
    "from googletrans import Translator\n",
    "\n",
    "class TextTranslator:\n",
    "    def __init__(self, text, target_language):\n",
    "        self.text = text\n",
    "        self.target_language = target_language\n",
    "        self.translator = Translator()\n",
    "\n",
    "    def translate(self):\n",
    "        try:\n",
    "            translation = self.translator.translate(self.text, dest=self.target_language)\n",
    "            return translation.text.encode('utf-8')\n",
    "        except Exception as e:\n",
    "            print(\"Translation failed:\", e)\n",
    "            return None\n"
   ]
  },
  {
   "cell_type": "code",
   "execution_count": 66,
   "metadata": {},
   "outputs": [
    {
     "name": "stdout",
     "output_type": "stream",
     "text": [
      "b'\\xe4\\xbd\\xa0\\xe5\\xa5\\xbd\\xe4\\xb8\\x96\\xe7\\x95\\x8c\\xef\\xbc\\x8c\\xe6\\x97\\xa9\\xe4\\xb8\\x8a\\xe5\\xa5\\xbd\\xef\\xbc\\x81'\n"
     ]
    }
   ],
   "source": [
    "text = \"Hello World, good morning!\"\n",
    "target_language = 'zh-cn'\n",
    "translator = TextTranslator(text, target_language)\n",
    "translation = translator.translate()\n",
    "print(translation)\n"
   ]
  },
  {
   "cell_type": "code",
   "execution_count": 74,
   "metadata": {},
   "outputs": [],
   "source": [
    "#from googletrans import Translator\n",
    "\n",
    "class TextTranslator:\n",
    "    def __init__(self, text, target_language):\n",
    "        self.text = text\n",
    "        self.target_language = target_language\n",
    "        self.translator = Translator()\n",
    "\n",
    "    def translate(self):\n",
    "        try:\n",
    "            translation = self.translator.translate(self.text, dest=self.target_language)\n",
    "            return translation.text\n",
    "        except Exception as e:\n",
    "            print(\"Translation failed:\", e)\n",
    "            return \"\"\n"
   ]
  },
  {
   "cell_type": "code",
   "execution_count": 75,
   "metadata": {},
   "outputs": [
    {
     "name": "stdout",
     "output_type": "stream",
     "text": [
      "Translation failed: 'utf-8' codec can't decode byte 0x95 in position 11: invalid start byte\n"
     ]
    }
   ],
   "source": [
    "translator = FileTranslator(target_language='he')\n",
    "translator.translate_file('Session_1_New_Jews_and_Old_ Jews.docx', 'translated_text1.txt')"
   ]
  },
  {
   "attachments": {},
   "cell_type": "markdown",
   "metadata": {},
   "source": [
    "### Below is a super Class, containing the class functions to read any supported file type translate it to another lang while maintaining the file structure and then output the translated file."
   ]
  },
  {
   "cell_type": "code",
   "execution_count": 1,
   "metadata": {},
   "outputs": [],
   "source": [
    "import os\n",
    "#from googletrans import Translator\n",
    "\n",
    "class FileTranslator:\n",
    "    def __init__(self, filename, source_lang, target_lang):\n",
    "        self.filename = filename\n",
    "        self.source_lang = source_lang\n",
    "        self.target_lang = target_lang\n",
    "        \n",
    "    def translate(self):\n",
    "        # determine file type\n",
    "        file_extension = os.path.splitext(self.filename)[1]\n",
    "        \n",
    "        # read in file\n",
    "        with open(self.filename, 'r', encoding='utf-8') as f:\n",
    "            contents = f.read()\n",
    "        \n",
    "        # translate using Google Translate API\n",
    "        translator = Translator()\n",
    "        translated = translator.translate(contents, src=self.source_lang, dest=self.target_lang).text\n",
    "        \n",
    "        # return translated contents with original file structure\n",
    "        with open(f\"{os.path.splitext(self.filename)[0]}_translated{file_extension}\", 'w', encoding='utf-8') as f:\n",
    "            f.write(translated)\n"
   ]
  },
  {
   "cell_type": "code",
   "execution_count": 5,
   "metadata": {},
   "outputs": [
    {
     "name": "stdout",
     "output_type": "stream",
     "text": [
      "<__main__.FileTranslator object at 0x0000021F7AE501D0>\n"
     ]
    }
   ],
   "source": [
    "translator = FileTranslator('hillel_clean.txt', 'en', 'he')\n",
    "print(translator)\n"
   ]
  },
  {
   "cell_type": "code",
   "execution_count": 3,
   "metadata": {},
   "outputs": [
    {
     "ename": "NameError",
     "evalue": "name 'FileReader' is not defined",
     "output_type": "error",
     "traceback": [
      "\u001b[1;31m---------------------------------------------------------------------------\u001b[0m",
      "\u001b[1;31mNameError\u001b[0m                                 Traceback (most recent call last)",
      "Cell \u001b[1;32mIn[3], line 1\u001b[0m\n\u001b[1;32m----> 1\u001b[0m FileReader(\u001b[39m'\u001b[39m\u001b[39mYW_translated.txt\u001b[39m\u001b[39m'\u001b[39m)\u001b[39m.\u001b[39mread()\n",
      "\u001b[1;31mNameError\u001b[0m: name 'FileReader' is not defined"
     ]
    }
   ],
   "source": [
    "FileReader('YW_translated.txt').read()\n"
   ]
  },
  {
   "cell_type": "code",
   "execution_count": null,
   "metadata": {},
   "outputs": [],
   "source": []
  }
 ],
 "metadata": {
  "kernelspec": {
   "display_name": "Python 3",
   "language": "python",
   "name": "python3"
  },
  "language_info": {
   "codemirror_mode": {
    "name": "ipython",
    "version": 3
   },
   "file_extension": ".py",
   "mimetype": "text/x-python",
   "name": "python",
   "nbconvert_exporter": "python",
   "pygments_lexer": "ipython3",
   "version": "3.11.3"
  },
  "orig_nbformat": 4
 },
 "nbformat": 4,
 "nbformat_minor": 2
}
